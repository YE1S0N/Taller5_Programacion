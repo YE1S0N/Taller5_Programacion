{
  "nbformat": 4,
  "nbformat_minor": 0,
  "metadata": {
    "colab": {
      "provenance": [],
      "authorship_tag": "ABX9TyPbmOj2d9CAR6XnigozOSON",
      "include_colab_link": true
    },
    "kernelspec": {
      "name": "python3",
      "display_name": "Python 3"
    },
    "language_info": {
      "name": "python"
    }
  },
  "cells": [
    {
      "cell_type": "markdown",
      "metadata": {
        "id": "view-in-github",
        "colab_type": "text"
      },
      "source": [
        "<a href=\"https://colab.research.google.com/github/YE1S0N/Taller5_Programacion/blob/main/taller5.ipynb\" target=\"_parent\"><img src=\"https://colab.research.google.com/assets/colab-badge.svg\" alt=\"Open In Colab\"/></a>"
      ]
    },
    {
      "cell_type": "code",
      "execution_count": 118,
      "metadata": {
        "colab": {
          "base_uri": "https://localhost:8080/"
        },
        "id": "IQ-PLleRrdnj",
        "outputId": "2e68a6b1-8192-4e9b-9174-cdb009e6f2e3"
      },
      "outputs": [
        {
          "output_type": "stream",
          "name": "stdout",
          "text": [
            "Ingrese un número entero positivo n: 5\n",
            "1\n",
            "2\n",
            "3\n",
            "4\n",
            "5\n"
          ]
        }
      ],
      "source": [
        "##YEISON DE LEON 00491649, ANGELY JARAMILLO\n",
        "#EJERCICIO1\n",
        "\n",
        "\n",
        "n = int(input(\"Ingrese un número entero positivo : \"))\n",
        "if n <= 0:\n",
        "  print(\"Por favor, ingrese un número entero positivo mayor que 0.\")\n",
        "else:\n",
        "  contador = 1\n",
        "while contador <= n:\n",
        "  print(contador)\n",
        "  contador += 1\n",
        ""
      ]
    },
    {
      "cell_type": "code",
      "source": [
        "##ejercicio 4\n",
        "D = int(input(\"Ingrese un número: \"))\n",
        "while D/D == 9:\n",
        "  if D < 0:\n",
        "        print(\"El número no es positivo.\")\n",
        "else:\n",
        "  if D %2:\n",
        "      print(f\"{D} es un número primo.\")\n",
        "  else:\n",
        "    print(f\"{D} no es un número primo.\")\n"
      ],
      "metadata": {
        "id": "R4lVboSirjQj"
      },
      "execution_count": null,
      "outputs": []
    },
    {
      "cell_type": "code",
      "source": [
        "#3ejercicio 6\n",
        "D = int(input(\"INGRESE UN NUMERO: \"))\n",
        "if D < 1:\n",
        "  print(\"INGRESA UN NUMERO MAYOR A 0.\")\n",
        "  D = int(input(\"INGRESE UN NUMERO: \"))\n",
        "while D == 0:\n",
        "  D = int(input(\"INGRESE UN NUMERO: \"))\n",
        "  for i in range(D, 0, -1):\n",
        "    print(i)\n",
        "else:\n",
        "  for i in range(D, 0, -1):\n",
        "    print(i)\n"
      ],
      "metadata": {
        "id": "2MokYq4OsCjp",
        "outputId": "aa64d2e3-e2dc-4267-8c6f-8c0d9bdd3ca3",
        "colab": {
          "base_uri": "https://localhost:8080/"
        }
      },
      "execution_count": 34,
      "outputs": [
        {
          "output_type": "stream",
          "name": "stdout",
          "text": [
            "INGRESE UN NUMERO: 0\n",
            "INGRESA UN NUMERO MAYOR A 0.\n",
            "INGRESE UN NUMERO: 0\n",
            "INGRESE UN NUMERO: 0\n",
            "INGRESE UN NUMERO: 5\n",
            "5\n",
            "4\n",
            "3\n",
            "2\n",
            "1\n",
            "5\n",
            "4\n",
            "3\n",
            "2\n",
            "1\n"
          ]
        }
      ]
    },
    {
      "cell_type": "code",
      "source": [
        "##ejercicio 5\n",
        "while True:\n",
        "        print('1.sumar','\\n' '2.restar','\\n''3.multiplicar','\\n''4.dividir','\\n''5.salir')\n",
        "        op=int(input('que desea hacer '))\n",
        "        if op==1:\n",
        "          sum1=int(input('escriba el primer numero que desea sumar'))\n",
        "          sum2=int(input('escriba el segundo numero que desea sumar'))\n",
        "          print('el resultado es:',sum1+sum2)\n",
        "        if op==2:\n",
        "          res1=int(input('escriba el primer numero que desea restar'))\n",
        "          res2=int(input('escriba el segundo numero que desea restar'))\n",
        "          print('el resultado es:',res1-res2)\n",
        "        if op==3:\n",
        "          mul1=int(input('escriba el primer numero que desea multiplicar'))\n",
        "          mul2=int(input('escriba el segundo numero que desea multiplicar'))\n",
        "          print('el resultado es:',mul1*mul2)\n",
        "        if op==4:\n",
        "          div1=int(input('escriba el primer numero que desea dividir'))\n",
        "          div2=int(input('escriba el segundo numero que desea dividir'))\n",
        "          print('el resultado es:',div1/div2)\n",
        "        if op==5:\n",
        "          break"
      ],
      "metadata": {
        "id": "nExBdcPosWOQ",
        "outputId": "76367de9-ca97-468e-d73a-b1e6e30cac63",
        "colab": {
          "base_uri": "https://localhost:8080/"
        }
      },
      "execution_count": 55,
      "outputs": [
        {
          "name": "stdout",
          "output_type": "stream",
          "text": [
            "1.sumar \n",
            "2.restar \n",
            "3.multiplicar \n",
            "4.dividir \n",
            "5.salir\n",
            "que desea hacer 4\n",
            "escriba el primer numero que desea dividir44\n",
            "escriba el segundo numero que desea dividir6\n",
            "el resultado es: 7.333333333333333\n",
            "1.sumar \n",
            "2.restar \n",
            "3.multiplicar \n",
            "4.dividir \n",
            "5.salir\n",
            "que desea hacer 5\n"
          ]
        }
      ]
    },
    {
      "cell_type": "code",
      "source": [
        "##ejercicio 2\n",
        "s=0\n",
        "D =int(input(\"ingresa el numero que quieras\"))\n",
        "for i in range(0,D+1,2):\n",
        "    s=s+i\n",
        "print(s)"
      ],
      "metadata": {
        "id": "c7b_i5PUvru-",
        "outputId": "994a28ca-4aed-481d-d618-f539ca302f2c",
        "colab": {
          "base_uri": "https://localhost:8080/"
        }
      },
      "execution_count": 54,
      "outputs": [
        {
          "output_type": "stream",
          "name": "stdout",
          "text": [
            "ingresa el numero que quieras100\n",
            "2550\n"
          ]
        }
      ]
    },
    {
      "cell_type": "code",
      "source": [
        "#EJERCICIO 7\n",
        "D = int(input(\"Ingrese el valor máximo: \"))\n",
        "NUMERO1 = 0\n",
        "NUMERO2 = 1\n",
        "while NUMERO1 <= D:\n",
        "    print(NUMERO1)\n",
        "    NUMERO1, NUMERO2 = NUMERO2,NUMERO1+NUMERO2"
      ],
      "metadata": {
        "id": "sTfdW8iCyddT",
        "outputId": "7e580c19-f25c-44f2-b6bf-ee50b98096aa",
        "colab": {
          "base_uri": "https://localhost:8080/"
        }
      },
      "execution_count": 96,
      "outputs": [
        {
          "output_type": "stream",
          "name": "stdout",
          "text": [
            "Ingrese el valor máximo: 20\n",
            "0\n",
            "1\n",
            "1\n",
            "2\n",
            "3\n",
            "5\n",
            "8\n",
            "13\n"
          ]
        }
      ]
    },
    {
      "cell_type": "code",
      "source": [
        "#EJERCICIO 8\n",
        "D = int(input(\"Ingrese un número entero positivo: \"))\n",
        "if D < 0:\n",
        "        print(\"El número ingresado no es positivo.\")\n",
        "else:\n",
        "  R = 0\n",
        "while D > 0:\n",
        "  R += D % 10\n",
        "  D //= 10\n",
        "print(R)"
      ],
      "metadata": {
        "id": "VkIBgdNH1ESp",
        "outputId": "53735a72-dd2a-4603-8230-4a595ea2de54",
        "colab": {
          "base_uri": "https://localhost:8080/"
        }
      },
      "execution_count": 92,
      "outputs": [
        {
          "output_type": "stream",
          "name": "stdout",
          "text": [
            "Ingrese un número entero positivo: 09\n",
            "9\n"
          ]
        }
      ]
    },
    {
      "cell_type": "code",
      "source": [
        "#EJERCICIO 3\n",
        "D = int(input('ingrese un numero para la serie = '))\n",
        "\n",
        "for i in range(1, D+1):\n",
        "    for j in range(1, i+1):\n",
        "        print(j, end=\"\")"
      ],
      "metadata": {
        "id": "m45LZ7KP2bvz",
        "outputId": "54b163dc-f8fd-4b53-e733-231cb03eaf0b",
        "colab": {
          "base_uri": "https://localhost:8080/"
        }
      },
      "execution_count": 102,
      "outputs": [
        {
          "output_type": "stream",
          "name": "stdout",
          "text": [
            "ingrese un numero para la serie = 5\n",
            "112123123412345"
          ]
        }
      ]
    },
    {
      "cell_type": "code",
      "source": [
        "1"
      ],
      "metadata": {
        "id": "PokhxXrM2rRy",
        "outputId": "ab79e1a2-6fc4-4904-c471-9ac7e321aa4c",
        "colab": {
          "base_uri": "https://localhost:8080/"
        }
      },
      "execution_count": 99,
      "outputs": [
        {
          "output_type": "execute_result",
          "data": {
            "text/plain": [
              "1"
            ]
          },
          "metadata": {},
          "execution_count": 99
        }
      ]
    },
    {
      "cell_type": "code",
      "source": [],
      "metadata": {
        "id": "xEj-7U7e4qkt"
      },
      "execution_count": null,
      "outputs": []
    }
  ]
}